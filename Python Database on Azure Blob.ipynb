{
 "cells": [
  {
   "cell_type": "markdown",
   "metadata": {},
   "source": [
    "# Python Database on Azure Blob by Paul Chao #"
   ]
  },
  {
   "cell_type": "markdown",
   "metadata": {
    "collapsed": true
   },
   "source": [
    "# Prepare Azure / Azure 的前置作業 #\n",
    "- Please [register](https://azure.microsoft.com/en-us/free/) Azure / 請[註冊](https://azure.microsoft.com/zh-tw/free/) Azure\n",
    "- Please [login](https://portal.azure.com) Azure / 請[登入](https://portal.azure.com) Azure 帳號"
   ]
  },
  {
   "cell_type": "markdown",
   "metadata": {},
   "source": [
    "## Azure Blob / Azure Blob介紹 ##"
   ]
  },
  {
   "cell_type": "markdown",
   "metadata": {},
   "source": [
    "\"binary large object\"\n",
    "\n",
    "\"Azure Blob storage is a service for storing large amounts of unstructured object data, such as text or binary data, that can be accessed from anywhere in the world via HTTP or HTTPS. You can use Blob storage to expose data publicly to the world, or to store application data privately.+\n",
    "\n",
    "Common uses of Blob storage include:\n",
    "\n",
    "- Serving images or documents directly to a browser.\n",
    "- Storing files for distributed access.\n",
    "- Streaming video and audio.\n",
    "- Storing data for backup and restore, disaster recovery, and archiving.\n",
    "- Storing data for analysis by an on-premises or Azure-hosted service.\"\n"
   ]
  },
  {
   "cell_type": "markdown",
   "metadata": {},
   "source": [
    "## Install Environment\n",
    "``` bash\n",
    "$ python3 -m venv env\n",
    "$ source env/bin/activate\n",
    "$ pip install azure-storage-blob  (pip >= 9.0)\n",
    "```\n",
    "\n",
    "``` Python\n",
    "$ Python\n",
    ">>> import azure.storage.blob\n",
    ">>>\n",
    "```\n",
    "即為成功\n"
   ]
  },
  {
   "cell_type": "code",
   "execution_count": 2,
   "metadata": {},
   "outputs": [
    {
     "name": "stdout",
     "output_type": "stream",
     "text": [
      "Collecting azure.storage.blob\n",
      "  Using cached azure_storage_blob-0.37.1-py2.py3-none-any.whl\n",
      "Requirement already satisfied: azure-storage-common<0.38.0,>=0.37.1 in c:\\users\\user\\anaconda3\\lib\\site-packages (from azure.storage.blob)\n",
      "Requirement already satisfied: requests in c:\\users\\user\\anaconda3\\lib\\site-packages (from azure.storage.blob)\n",
      "Requirement already satisfied: futures in c:\\users\\user\\anaconda3\\lib\\site-packages (from azure.storage.blob)\n",
      "Requirement already satisfied: azure-common>=1.1.5 in c:\\users\\user\\anaconda3\\lib\\site-packages (from azure.storage.blob)\n",
      "Requirement already satisfied: python-dateutil in c:\\users\\user\\anaconda3\\lib\\site-packages (from azure.storage.blob)\n",
      "Requirement already satisfied: cryptography in c:\\users\\user\\anaconda3\\lib\\site-packages (from azure.storage.blob)\n",
      "Requirement already satisfied: azure-storage-nspkg>=2.0.0 in c:\\users\\user\\anaconda3\\lib\\site-packages (from azure.storage.blob)\n",
      "Requirement already satisfied: azure-nspkg>=2.0.0 in c:\\users\\user\\anaconda3\\lib\\site-packages (from azure-common>=1.1.5->azure.storage.blob)\n",
      "Requirement already satisfied: six>=1.5 in c:\\users\\user\\anaconda3\\lib\\site-packages (from python-dateutil->azure.storage.blob)\n",
      "Requirement already satisfied: idna>=2.1 in c:\\users\\user\\anaconda3\\lib\\site-packages (from cryptography->azure.storage.blob)\n",
      "Requirement already satisfied: asn1crypto>=0.21.0 in c:\\users\\user\\anaconda3\\lib\\site-packages (from cryptography->azure.storage.blob)\n",
      "Requirement already satisfied: packaging in c:\\users\\user\\anaconda3\\lib\\site-packages (from cryptography->azure.storage.blob)\n",
      "Requirement already satisfied: setuptools>=11.3 in c:\\users\\user\\anaconda3\\lib\\site-packages\\setuptools-27.2.0-py3.6.egg (from cryptography->azure.storage.blob)\n",
      "Requirement already satisfied: cffi>=1.4.1 in c:\\users\\user\\anaconda3\\lib\\site-packages (from cryptography->azure.storage.blob)\n",
      "Requirement already satisfied: pycparser in c:\\users\\user\\anaconda3\\lib\\site-packages (from cffi>=1.4.1->cryptography->azure.storage.blob)\n",
      "Installing collected packages: azure.storage.blob\n",
      "Successfully installed azure.storage.blob\n"
     ]
    }
   ],
   "source": [
    "!pip install azure.storage.blob"
   ]
  },
  {
   "cell_type": "code",
   "execution_count": 3,
   "metadata": {},
   "outputs": [
    {
     "name": "stdout",
     "output_type": "stream",
     "text": [
      "Help on package azure.storage.blob in azure.storage:\n",
      "\n",
      "NAME\n",
      "    azure.storage.blob\n",
      "\n",
      "DESCRIPTION\n",
      "    # -------------------------------------------------------------------------\n",
      "    # Copyright (c) Microsoft.  All rights reserved.\n",
      "    #\n",
      "    # Licensed under the Apache License, Version 2.0 (the \"License\");\n",
      "    # you may not use this file except in compliance with the License.\n",
      "    # You may obtain a copy of the License at\n",
      "    #   http://www.apache.org/licenses/LICENSE-2.0\n",
      "    #\n",
      "    # Unless required by applicable law or agreed to in writing, software\n",
      "    # distributed under the License is distributed on an \"AS IS\" BASIS,\n",
      "    # WITHOUT WARRANTIES OR CONDITIONS OF ANY KIND, either express or implied.\n",
      "    # See the License for the specific language governing permissions and\n",
      "    # limitations under the License.\n",
      "    # --------------------------------------------------------------------------\n",
      "\n",
      "PACKAGE CONTENTS\n",
      "    _constants\n",
      "    _deserialization\n",
      "    _download_chunking\n",
      "    _encryption\n",
      "    _error\n",
      "    _serialization\n",
      "    _upload_chunking\n",
      "    appendblobservice\n",
      "    baseblobservice\n",
      "    blockblobservice\n",
      "    models\n",
      "    pageblobservice\n",
      "    sharedaccesssignature\n",
      "\n",
      "FILE\n",
      "    c:\\users\\user\\anaconda3\\lib\\site-packages\\azure\\storage\\blob\\__init__.py\n",
      "\n",
      "\n"
     ]
    }
   ],
   "source": [
    "import azure.storage.blob\n",
    "help(azure.storage.blob)"
   ]
  },
  {
   "cell_type": "code",
   "execution_count": 20,
   "metadata": {
    "collapsed": true
   },
   "outputs": [],
   "source": [
    "from azure.storage.blob import BlockBlobService"
   ]
  },
  {
   "cell_type": "markdown",
   "metadata": {},
   "source": [
    "![](https://docs.microsoft.com/en-us/azure/includes/media/storage-blob-concepts-include/blob1.png)"
   ]
  },
  {
   "cell_type": "markdown",
   "metadata": {},
   "source": [
    "## Setup Blob / 設定 Azure Blob ##\n",
    "老師會現場教學"
   ]
  },
  {
   "cell_type": "markdown",
   "metadata": {},
   "source": [
    "## Azure Setup / Azure 設定 ##"
   ]
  },
  {
   "cell_type": "code",
   "execution_count": 21,
   "metadata": {
    "collapsed": true
   },
   "outputs": [],
   "source": [
    "import os\n",
    "storage_account= ??your_storage_account??\n",
    "storage_key= ??your_storage_key??\n",
    "container_name= \"test\"\n",
    "local_file= os.getcwd() + \"\\\\google.csv\"      \n",
    "blob_name= \"contacts.csv\""
   ]
  },
  {
   "cell_type": "markdown",
   "metadata": {},
   "source": [
    "## Get Service / 取得服務 ## "
   ]
  },
  {
   "cell_type": "code",
   "execution_count": 39,
   "metadata": {},
   "outputs": [
    {
     "data": {
      "text/plain": [
       "<azure.storage.blob.blockblobservice.BlockBlobService at 0x1955f2e6e48>"
      ]
     },
     "execution_count": 39,
     "metadata": {},
     "output_type": "execute_result"
    }
   ],
   "source": [
    "srv = BlockBlobService(account_name=storage_account, account_key=storage_key)\n",
    "srv"
   ]
  },
  {
   "cell_type": "markdown",
   "metadata": {},
   "source": [
    "## Create Container in Code / 在code裡建立容器 ##"
   ]
  },
  {
   "cell_type": "code",
   "execution_count": 44,
   "metadata": {
    "scrolled": true
   },
   "outputs": [
    {
     "data": {
      "text/plain": [
       "True"
      ]
     },
     "execution_count": 44,
     "metadata": {},
     "output_type": "execute_result"
    }
   ],
   "source": [
    "srv.create_container(container_name)"
   ]
  },
  {
   "cell_type": "markdown",
   "metadata": {},
   "source": [
    "## Write a File as a Blob / 把檔案寫入blob ##"
   ]
  },
  {
   "cell_type": "code",
   "execution_count": 22,
   "metadata": {},
   "outputs": [
    {
     "data": {
      "text/plain": [
       "<azure.storage.blob.models.ResourceProperties at 0x1955f212828>"
      ]
     },
     "execution_count": 22,
     "metadata": {},
     "output_type": "execute_result"
    }
   ],
   "source": [
    "srv.create_blob_from_path(\n",
    "    container_name,\n",
    "    blob_name,\n",
    "    local_file\n",
    ")"
   ]
  },
  {
   "cell_type": "markdown",
   "metadata": {},
   "source": [
    "## List Blobs in Container / 把容器裡面的blob列出來 ##"
   ]
  },
  {
   "cell_type": "code",
   "execution_count": 48,
   "metadata": {},
   "outputs": [
    {
     "name": "stdout",
     "output_type": "stream",
     "text": [
      "contacts.csv\n"
     ]
    }
   ],
   "source": [
    "list = srv.list_blobs(container_name)\n",
    "for blob in list:\n",
    "    print(blob.name)"
   ]
  },
  {
   "cell_type": "markdown",
   "metadata": {},
   "source": [
    "## Read Blob from Azure / 將 blob 讀回來 ##"
   ]
  },
  {
   "cell_type": "code",
   "execution_count": 25,
   "metadata": {},
   "outputs": [
    {
     "data": {
      "text/plain": [
       "<azure.storage.blob.models.Blob at 0x1955f2a1860>"
      ]
     },
     "execution_count": 25,
     "metadata": {},
     "output_type": "execute_result"
    }
   ],
   "source": [
    "srv.get_blob_to_path(container_name, blob_name, 'new.csv')"
   ]
  },
  {
   "cell_type": "markdown",
   "metadata": {},
   "source": [
    "## Whole Program / 程式集成 ##"
   ]
  },
  {
   "cell_type": "code",
   "execution_count": 47,
   "metadata": {},
   "outputs": [
    {
     "name": "stdout",
     "output_type": "stream",
     "text": [
      "<azure.storage.blob.blockblobservice.BlockBlobService object at 0x000001955F2CFE48>\n",
      "Container test created.\n",
      "Save file successfully\n"
     ]
    }
   ],
   "source": [
    "from azure.storage.blob import BlockBlobService\n",
    "import os\n",
    "\n",
    "storage_account= ??your_storage_account??\n",
    "storage_key= ??your_storage_key??\n",
    "container_name= \"test\"\n",
    "\n",
    "def create_service():\n",
    "    return BlockBlobService(account_name=storage_account, account_key=storage_key)\n",
    "\n",
    "def save_file_to_blob(service, filepath, blobname):\n",
    "    service.create_blob_from_path(container_name, blobname, filepath)\n",
    "\n",
    "def list_file_from_blob(service, containername):\n",
    "    list = service.list_blobs(containername)\n",
    "    for blob in list:\n",
    "        print(blob.name)\n",
    "\n",
    "def read_file_from_blob(service, blobname, savedname):\n",
    "    service.get_blob_to_path(container_name, blobname, savedname)\n",
    "\n",
    "\n",
    "\n",
    "# main procedure     \n",
    "blob_name= \"contacts.csv\"\n",
    "local_file= os.getcwd() + \"\\\\google.csv\"      \n",
    "\n",
    "# create service, container and test storage\n",
    "try:\n",
    "    srv = create_service()\n",
    "    print(srv)\n",
    "    srv.create_container(container_name)\n",
    "    print(\"Container {} created.\".format(container_name))\n",
    "except:\n",
    "    print(\"Creating service/container errors.\")\n",
    "\n",
    "try:\n",
    "    list_file_from_blob(srv, container_name)\n",
    "    save_file_to_blob(srv, os.getcwd() + \"\\\\google.csv\", blob_name)\n",
    "    print(\"Save file successfully\")\n",
    "except:            \n",
    "    print (\"Error happends during saving\")\n",
    "\n",
    "try:\n",
    "    read_file_from_blob(srv, blob_name, \"new.csv\")\n",
    "except:            \n",
    "    print (\"Error happends during reading\")\n"
   ]
  },
  {
   "cell_type": "markdown",
   "metadata": {},
   "source": [
    "## Assignment 小作業 - 資料庫雲端備份 ##\n",
    "\n",
    "試著將之前的 sqlite3 database 的代碼改良，將google.csv檔案轉換到資料庫後，將資料庫檔案寫到 Azure blob 上，再將雲端的資料庫檔案讀回來後，從裡面印出內容。\n",
    "\n",
    "可參考之前的資料庫代碼修改。\n"
   ]
  },
  {
   "cell_type": "markdown",
   "metadata": {},
   "source": [
    "## 參考答案 ##"
   ]
  },
  {
   "cell_type": "code",
   "execution_count": 53,
   "metadata": {},
   "outputs": [
    {
     "name": "stdout",
     "output_type": "stream",
     "text": [
      "preparing data ...\n",
      "\n",
      "Write data to database ...\n",
      "\n"
     ]
    },
    {
     "name": "stderr",
     "output_type": "stream",
     "text": [
      "C:\\Users\\User\\Anaconda3\\lib\\site-packages\\pandas\\core\\generic.py:1345: UserWarning: The spaces in these column names will not be changed. In pandas versions < 0.14, spaces were converted to underscores.\n",
      "  chunksize=chunksize, dtype=dtype)\n"
     ]
    },
    {
     "name": "stdout",
     "output_type": "stream",
     "text": [
      "Get Azure Storage service and create container\n",
      "\n",
      "Writing data to cloud ... result =None\n",
      "\n",
      "List blobs on cloud, container=database\n",
      "\n",
      "sqlite_cloud.db\n",
      "Download database from cloud ...\n",
      "\n",
      "None\n",
      "Read data from downloaded database...\n",
      "\n",
      "      Name Family Name    Birthday       Occupation\n",
      "0      Bob       Chang  1997-01-02         Engineer\n",
      "1  Charles       Chong  1997-01-03         Engineer\n",
      "2    Daisy        Wang  1997-01-04  Senior Engineer\n",
      "3    Ellie         Lai  1997-01-05          Manager\n",
      "4    Fanny        Wang  1997-01-06              CEO\n",
      "\n",
      "\n",
      "       Name Family Name    Birthday Occupation\n",
      "count    10          10          10         10\n",
      "unique   10           8          10          5\n",
      "top     Bob       Chang  1997-01-09   Engineer\n",
      "freq      1           2           1          5\n"
     ]
    }
   ],
   "source": [
    "import sqlite3\n",
    "import os\n",
    "import pandas as pd\n",
    "from azure.storage.blob import BlockBlobService\n",
    "\n",
    "# Database\n",
    "upload_database_name = \"sqlite3_test3.db\"\n",
    "\n",
    "def feed_database(pd_df, database_name):\n",
    "    with sqlite3.connect(database_name) as db:\n",
    "        pd_df.to_sql('member_info', con = db, if_exists='replace')\n",
    "\n",
    "def read_database(database_name):\n",
    "    with sqlite3.connect(database_name) as db:\n",
    "        read_name = pd.read_sql_query('select * from member_info', con = db)\n",
    "        print(read_name.head())\n",
    "        print(\"\\n\")\n",
    "        print(read_name.describe())\n",
    "\n",
    "# Cloud\n",
    "storage_account= ??your_storage_account??\n",
    "storage_key= ??your_storage_key??\n",
    "container_name= \"database\"\n",
    "download_database_name = \"sqlite3_test4.db\"\n",
    "\n",
    "def create_service():\n",
    "    return BlockBlobService(account_name=storage_account, account_key=storage_key)\n",
    "\n",
    "def save_file_to_blob(service, filepath, blobname):\n",
    "    service.create_blob_from_path(container_name, blobname, filepath)\n",
    "\n",
    "def list_file_from_blob(service, containername):\n",
    "    list = service.list_blobs(containername)\n",
    "    for blob in list:\n",
    "        print(blob.name)\n",
    "\n",
    "def read_file_from_blob(service, blobname, savedname):\n",
    "    service.get_blob_to_path(container_name, blobname, savedname)\n",
    "\n",
    "# main procedure\n",
    "print(\"preparing data ...\\n\")\n",
    "df = pd.read_csv(\"google.csv\", encoding = \"ISO-8859-1\")\n",
    "new_df = df.loc[1:10,['Name', 'Family Name', 'Birthday','Occupation']].set_index('Name')\n",
    "\n",
    "# write to database to-be-uploaded\n",
    "print(\"Write data to database ...\\n\")\n",
    "feed_database(new_df, upload_database_name)\n",
    "\n",
    "# get service and create container\n",
    "print(\"Get Azure Storage service and create container\\n\")\n",
    "srv = create_service()\n",
    "srv.create_container(container_name)\n",
    "\n",
    "# do upload\n",
    "print(\"Writing data to cloud ... result ={}\\n\".format(\n",
    "        save_file_to_blob(srv, upload_database_name, \"sqlite_cloud.db\"))\n",
    "     )\n",
    "\n",
    "# list \n",
    "print(\"List blobs on cloud, container={}\\n\".format(container_name))\n",
    "list_file_from_blob(srv, container_name)\n",
    "\n",
    "# do download\n",
    "print(\"Download database from cloud ...\\n\")\n",
    "print(read_file_from_blob(srv, \"sqlite_cloud.db\", download_database_name))\n",
    "\n",
    "# read newly downloaded database\n",
    "print(\"Read data from downloaded database...\\n\")\n",
    "read_database(download_database_name)"
   ]
  },
  {
   "cell_type": "markdown",
   "metadata": {},
   "source": [
    "### Note : Storage Explorer ###\n",
    "Download Azure Storage [Explorer](https://azure.microsoft.com/en-us/features/storage-explorer/)"
   ]
  },
  {
   "cell_type": "markdown",
   "metadata": {},
   "source": [
    "# 工作坊實作專案 - 自製超強雲端備份工具 #\n",
    "還記得今天我們所教的 traverse directory 嗎? 試試看作一個上傳程式(upload.py)，把指定目錄中所有的檔案全部放入乾淨的 container。\n",
    "\n",
    "再作一個還原程式 (download.py)，執行之後可以把剛剛上傳的所有檔案(含目錄)，還原到目前的目錄裡。\n",
    "\n",
    "這樣我們就完成了一個自製的雲端備份工具，可以在各台電腦上將目錄結構傳到雲端備份，並且能夠在其他電腦上還原備份。\n"
   ]
  },
  {
   "cell_type": "markdown",
   "metadata": {},
   "source": [
    "## 在此之前你還需要知道一點小技巧 ##"
   ]
  },
  {
   "cell_type": "markdown",
   "metadata": {},
   "source": [
    "### 1. sub-directory of blob / blob的子目錄問題 ###"
   ]
  },
  {
   "cell_type": "code",
   "execution_count": 56,
   "metadata": {},
   "outputs": [
    {
     "data": {
      "text/plain": [
       "<azure.storage.blob.blockblobservice.BlockBlobService at 0x19561e2b940>"
      ]
     },
     "execution_count": 56,
     "metadata": {},
     "output_type": "execute_result"
    }
   ],
   "source": [
    "srv"
   ]
  },
  {
   "cell_type": "code",
   "execution_count": 57,
   "metadata": {},
   "outputs": [
    {
     "data": {
      "text/plain": [
       "<azure.storage.blob.models.ResourceProperties at 0x19561e587b8>"
      ]
     },
     "execution_count": 57,
     "metadata": {},
     "output_type": "execute_result"
    }
   ],
   "source": [
    "srv.create_blob_from_path(\"test\", \"test2/contacts.csv\", \"google.csv\")"
   ]
  },
  {
   "cell_type": "code",
   "execution_count": 60,
   "metadata": {},
   "outputs": [
    {
     "name": "stdout",
     "output_type": "stream",
     "text": [
      "blobname=contacts.csv\n",
      "blobname=test1/contacts.csv\n"
     ]
    }
   ],
   "source": [
    "def create_service():\n",
    "    return BlockBlobService(account_name=storage_account, account_key=storage_key)\n",
    "\n",
    "def save_file_to_blob(service, filepath, blobname):\n",
    "    print(\"blobname={}\".format(blobname))\n",
    "    service.create_blob_from_path(container_name, blobname, filepath)\n",
    "\n",
    "def list_file_from_blob(service, containername):\n",
    "    list = service.list_blobs(containername)\n",
    "    for blob in list:\n",
    "        print(blob.name)\n",
    "\n",
    "def read_file_from_blob(service, blobname, savedname):\n",
    "    service.get_blob_to_path(container_name, blobname, savedname)\n",
    "    \n",
    "srv = create_service()\n",
    "srv.create_container(\"test\")\n",
    "\n",
    "save_file_to_blob(srv, \"google.csv\", \"contacts.csv\")\n",
    "save_file_to_blob(srv, \"google.csv\",\"test1/contacts.csv\")\n",
    "list_file_from_blob(srv, \"test\")\n",
    "read_file_from_blob(srv, \"test1/contacts.csv\", \"google2.csv\")"
   ]
  },
  {
   "cell_type": "markdown",
   "metadata": {},
   "source": [
    "### 2. Recursively create sub-directory locally / 遞迴建立子目錄問題 ###"
   ]
  },
  {
   "cell_type": "code",
   "execution_count": 1,
   "metadata": {},
   "outputs": [
    {
     "name": "stdout",
     "output_type": "stream",
     "text": [
      "Help on function makedirs in module os:\n",
      "\n",
      "makedirs(name, mode=511, exist_ok=False)\n",
      "    makedirs(name [, mode=0o777][, exist_ok=False])\n",
      "    \n",
      "    Super-mkdir; create a leaf directory and all intermediate ones.  Works like\n",
      "    mkdir, except that any intermediate path segment (not just the rightmost)\n",
      "    will be created if it does not exist. If the target directory already\n",
      "    exists, raise an OSError if exist_ok is False. Otherwise no exception is\n",
      "    raised.  This is recursive.\n",
      "\n"
     ]
    }
   ],
   "source": [
    "import os\n",
    "help(os.makedirs)"
   ]
  },
  {
   "cell_type": "code",
   "execution_count": 2,
   "metadata": {
    "collapsed": true
   },
   "outputs": [],
   "source": [
    "os.makedirs(\"images/testdir\")"
   ]
  },
  {
   "cell_type": "code",
   "execution_count": 3,
   "metadata": {},
   "outputs": [
    {
     "ename": "FileExistsError",
     "evalue": "[WinError 183] 當檔案已存在時，無法建立該檔案。: 'images/testdir'",
     "output_type": "error",
     "traceback": [
      "\u001b[1;31m---------------------------------------------------------------------------\u001b[0m",
      "\u001b[1;31mFileExistsError\u001b[0m                           Traceback (most recent call last)",
      "\u001b[1;32m<ipython-input-3-0547ae4331de>\u001b[0m in \u001b[0;36m<module>\u001b[1;34m()\u001b[0m\n\u001b[1;32m----> 1\u001b[1;33m \u001b[0mos\u001b[0m\u001b[1;33m.\u001b[0m\u001b[0mmakedirs\u001b[0m\u001b[1;33m(\u001b[0m\u001b[1;34m\"images/testdir\"\u001b[0m\u001b[1;33m)\u001b[0m\u001b[1;33m\u001b[0m\u001b[0m\n\u001b[0m",
      "\u001b[1;32mC:\\Users\\User\\Anaconda3\\lib\\os.py\u001b[0m in \u001b[0;36mmakedirs\u001b[1;34m(name, mode, exist_ok)\u001b[0m\n\u001b[0;32m    218\u001b[0m             \u001b[1;32mreturn\u001b[0m\u001b[1;33m\u001b[0m\u001b[0m\n\u001b[0;32m    219\u001b[0m     \u001b[1;32mtry\u001b[0m\u001b[1;33m:\u001b[0m\u001b[1;33m\u001b[0m\u001b[0m\n\u001b[1;32m--> 220\u001b[1;33m         \u001b[0mmkdir\u001b[0m\u001b[1;33m(\u001b[0m\u001b[0mname\u001b[0m\u001b[1;33m,\u001b[0m \u001b[0mmode\u001b[0m\u001b[1;33m)\u001b[0m\u001b[1;33m\u001b[0m\u001b[0m\n\u001b[0m\u001b[0;32m    221\u001b[0m     \u001b[1;32mexcept\u001b[0m \u001b[0mOSError\u001b[0m\u001b[1;33m:\u001b[0m\u001b[1;33m\u001b[0m\u001b[0m\n\u001b[0;32m    222\u001b[0m         \u001b[1;31m# Cannot rely on checking for EEXIST, since the operating system\u001b[0m\u001b[1;33m\u001b[0m\u001b[1;33m\u001b[0m\u001b[0m\n",
      "\u001b[1;31mFileExistsError\u001b[0m: [WinError 183] 當檔案已存在時，無法建立該檔案。: 'images/testdir'"
     ]
    }
   ],
   "source": [
    "os.makedirs(\"images/testdir\")"
   ]
  },
  {
   "cell_type": "code",
   "execution_count": 4,
   "metadata": {
    "collapsed": true
   },
   "outputs": [],
   "source": [
    "os.makedirs(\"images/testdir\", exist_ok=True)"
   ]
  },
  {
   "cell_type": "code",
   "execution_count": 5,
   "metadata": {
    "collapsed": true
   },
   "outputs": [],
   "source": [
    "os.makedirs(\"images/testdir\", exist_ok=True)"
   ]
  },
  {
   "cell_type": "markdown",
   "metadata": {},
   "source": [
    "### 3. 最後的小提醒，避免收費以及耗費頻寬 : \n",
    "- 可以加入過濾器 (只傳特殊副檔名) \n",
    "- 上傳檔案時，注意上傳目錄裡面的檔案數與大小，建議作個測試目錄來玩玩即可\n",
    "- 下載還原時，可以用 input() 指定寫入目錄，避免現行工作目錄被弄亂"
   ]
  },
  {
   "cell_type": "markdown",
   "metadata": {},
   "source": [
    "# 讓我們開始動手作吧! #"
   ]
  },
  {
   "cell_type": "code",
   "execution_count": null,
   "metadata": {
    "collapsed": true
   },
   "outputs": [],
   "source": []
  },
  {
   "cell_type": "markdown",
   "metadata": {},
   "source": [
    "## Advanced Topic ##"
   ]
  },
  {
   "cell_type": "code",
   "execution_count": 27,
   "metadata": {},
   "outputs": [
    {
     "data": {
      "text/plain": [
       "['MAX_BLOCK_SIZE',\n",
       " 'MAX_CHUNK_GET_SIZE',\n",
       " 'MAX_SINGLE_GET_SIZE',\n",
       " 'MAX_SINGLE_PUT_SIZE',\n",
       " 'MIN_LARGE_BLOCK_UPLOAD_THRESHOLD',\n",
       " '_USER_AGENT_STRING',\n",
       " '_X_MS_VERSION',\n",
       " '__class__',\n",
       " '__delattr__',\n",
       " '__dict__',\n",
       " '__dir__',\n",
       " '__doc__',\n",
       " '__eq__',\n",
       " '__format__',\n",
       " '__ge__',\n",
       " '__getattribute__',\n",
       " '__gt__',\n",
       " '__hash__',\n",
       " '__init__',\n",
       " '__init_subclass__',\n",
       " '__le__',\n",
       " '__lt__',\n",
       " '__metaclass__',\n",
       " '__module__',\n",
       " '__ne__',\n",
       " '__new__',\n",
       " '__reduce__',\n",
       " '__reduce_ex__',\n",
       " '__repr__',\n",
       " '__setattr__',\n",
       " '__sizeof__',\n",
       " '__str__',\n",
       " '__subclasshook__',\n",
       " '__weakref__',\n",
       " '_apply_host',\n",
       " '_copy_blob',\n",
       " '_get_blob',\n",
       " '_get_host_locations',\n",
       " '_httpclient',\n",
       " '_lease_blob_impl',\n",
       " '_lease_container_impl',\n",
       " '_list_blobs',\n",
       " '_list_containers',\n",
       " '_perform_request',\n",
       " '_put_blob',\n",
       " '_put_block',\n",
       " '_put_block_list',\n",
       " '_update_user_agent_string',\n",
       " 'abort_copy_blob',\n",
       " 'account_key',\n",
       " 'account_name',\n",
       " 'acquire_blob_lease',\n",
       " 'acquire_container_lease',\n",
       " 'authentication',\n",
       " 'blob_type',\n",
       " 'break_blob_lease',\n",
       " 'break_container_lease',\n",
       " 'change_blob_lease',\n",
       " 'change_container_lease',\n",
       " 'copy_blob',\n",
       " 'create_blob_from_bytes',\n",
       " 'create_blob_from_path',\n",
       " 'create_blob_from_stream',\n",
       " 'create_blob_from_text',\n",
       " 'create_container',\n",
       " 'delete_blob',\n",
       " 'delete_container',\n",
       " 'exists',\n",
       " 'extract_date_and_request_id',\n",
       " 'generate_account_shared_access_signature',\n",
       " 'generate_blob_shared_access_signature',\n",
       " 'generate_container_shared_access_signature',\n",
       " 'get_blob_metadata',\n",
       " 'get_blob_properties',\n",
       " 'get_blob_service_properties',\n",
       " 'get_blob_service_stats',\n",
       " 'get_blob_to_bytes',\n",
       " 'get_blob_to_path',\n",
       " 'get_blob_to_stream',\n",
       " 'get_blob_to_text',\n",
       " 'get_block_list',\n",
       " 'get_container_acl',\n",
       " 'get_container_metadata',\n",
       " 'get_container_properties',\n",
       " 'is_emulated',\n",
       " 'key_encryption_key',\n",
       " 'key_resolver_function',\n",
       " 'list_blobs',\n",
       " 'list_containers',\n",
       " 'location_mode',\n",
       " 'make_blob_url',\n",
       " 'primary_endpoint',\n",
       " 'protocol',\n",
       " 'put_block',\n",
       " 'put_block_list',\n",
       " 'release_blob_lease',\n",
       " 'release_container_lease',\n",
       " 'renew_blob_lease',\n",
       " 'renew_container_lease',\n",
       " 'request_callback',\n",
       " 'request_session',\n",
       " 'require_encryption',\n",
       " 'response_callback',\n",
       " 'retry',\n",
       " 'retry_callback',\n",
       " 'sas_token',\n",
       " 'secondary_endpoint',\n",
       " 'set_blob_metadata',\n",
       " 'set_blob_properties',\n",
       " 'set_blob_service_properties',\n",
       " 'set_container_acl',\n",
       " 'set_container_metadata',\n",
       " 'set_proxy',\n",
       " 'set_standard_blob_tier',\n",
       " 'snapshot_blob',\n",
       " 'socket_timeout']"
      ]
     },
     "execution_count": 27,
     "metadata": {},
     "output_type": "execute_result"
    }
   ],
   "source": [
    "dir(write_blob_service)"
   ]
  },
  {
   "cell_type": "markdown",
   "metadata": {},
   "source": [
    "用 Context Manager 來包裝"
   ]
  }
 ],
 "metadata": {
  "kernelspec": {
   "display_name": "Python 3",
   "language": "python",
   "name": "python3"
  },
  "language_info": {
   "codemirror_mode": {
    "name": "ipython",
    "version": 3
   },
   "file_extension": ".py",
   "mimetype": "text/x-python",
   "name": "python",
   "nbconvert_exporter": "python",
   "pygments_lexer": "ipython3",
   "version": "3.6.2"
  }
 },
 "nbformat": 4,
 "nbformat_minor": 2
}
