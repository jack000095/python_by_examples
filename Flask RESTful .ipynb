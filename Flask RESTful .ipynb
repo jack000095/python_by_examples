{
 "cells": [
  {
   "cell_type": "markdown",
   "metadata": {},
   "source": [
    "# Flask Essentials (RESTful API) by Paul Chao #\n"
   ]
  },
  {
   "cell_type": "markdown",
   "metadata": {},
   "source": [
    "## Web APP ##\n",
    "Webapp是一種使用網頁瀏覽器在網際網路或企業內部網上操作的應用軟體。是以網頁語言(例如HTML、JavaScript、Java等程式語言)撰寫的應用程式，需要透過瀏覽器來執行。\n",
    "網路應用程式風行的原因之一，是因為可以直接在各種電腦平台上執行，不需要事先安裝或定期升級等程式。亦同時應用在各樣微應用與物聯網系統。\n",
    "\n",
    "### 優點: ###\n",
    "- 只需要瀏覽器即可操作\n",
    "- 不需更新，因所有新特性都在伺服器上執行，會在執行時自動傳達到用戶端\n",
    "- 節省空間，所有資料留在伺服器端"
   ]
  },
  {
   "cell_type": "markdown",
   "metadata": {},
   "source": [
    "## What is Flask ##\n",
    "\n",
    "Python 撰寫的輕量級 Web 應用程式框架，由於其輕量特性，也稱為 micro-framework(微框架)。\n",
    "\n",
    "The “micro” in microframework means Flask aims to keep the core “[simple but extensible](http://flask.pocoo.org/docs/0.12/foreword/)”. Flask相較於Django等框架來說，沒有預設使用的資料庫、表單驗證工具等等，Flask不限制開發者、但保留了擴增的彈性。\n",
    "\n",
    "架構由 [Werkzeug WSGI](http://werkzeug.pocoo.org/)  工具箱和 [Jinja2](http://jinja.pocoo.org/docs/2.9/)([中文](http://docs.jinkan.org/docs/jinja2/))模板引擎所組成。"
   ]
  },
  {
   "cell_type": "markdown",
   "metadata": {},
   "source": [
    "## Basic Framework in Flask ##"
   ]
  },
  {
   "cell_type": "code",
   "execution_count": 1,
   "metadata": {
    "scrolled": true
   },
   "outputs": [
    {
     "name": "stdout",
     "output_type": "stream",
     "text": [
      "Requirement already satisfied: flask in c:\\users\\user\\anaconda3\\lib\\site-packages\n",
      "Requirement already satisfied: Werkzeug>=0.7 in c:\\users\\user\\anaconda3\\lib\\site-packages (from flask)\n",
      "Requirement already satisfied: Jinja2>=2.4 in c:\\users\\user\\anaconda3\\lib\\site-packages (from flask)\n",
      "Requirement already satisfied: itsdangerous>=0.21 in c:\\users\\user\\anaconda3\\lib\\site-packages (from flask)\n",
      "Requirement already satisfied: click>=2.0 in c:\\users\\user\\anaconda3\\lib\\site-packages (from flask)\n",
      "Requirement already satisfied: MarkupSafe>=0.23 in c:\\users\\user\\anaconda3\\lib\\site-packages (from Jinja2>=2.4->flask)\n"
     ]
    }
   ],
   "source": [
    "!pip install flask"
   ]
  },
  {
   "cell_type": "markdown",
   "metadata": {},
   "source": [
    "## Basic Framework ##\n",
    "用 wget localhost:8080"
   ]
  },
  {
   "cell_type": "markdown",
   "metadata": {},
   "source": [
    "``` Python\n",
    "from flask import Flask\n",
    "app = Flask(__name__) #define app using flask\n",
    "\n",
    "@app.route('/')\n",
    "def test():\n",
    "    return 'It works'\n",
    "\n",
    "if __name__ == '__main__':\n",
    "    app.run(debug=True, port=8080)\n",
    "```"
   ]
  },
  {
   "cell_type": "markdown",
   "metadata": {},
   "source": [
    "### Note : For Service ###\n",
    "app.run(debug=False, host=\"0.0.0.0\", port=xxxx) \n",
    "\n",
    "``` Python\n",
    "from flask import Flask\n",
    "app = Flask(__name__) #define app using flask\n",
    "\n",
    "@app.route('/')\n",
    "def test():\n",
    "    return 'It works'\n",
    "\n",
    "if __name__ == '__main__':\n",
    "    app.run(debug=True, host=\"0.0.0.0\", port=8080)\n",
    "```"
   ]
  },
  {
   "cell_type": "markdown",
   "metadata": {},
   "source": [
    "## Add Route ##\n",
    "\n",
    "### **route()** decorator is used to bind a function to a URL ###\n",
    "\n",
    "wget localhost:8080/test"
   ]
  },
  {
   "cell_type": "markdown",
   "metadata": {
    "collapsed": true
   },
   "source": [
    "``` Python\n",
    "from flask import Flask\n",
    "app = Flask(__name__) #define app using flask\n",
    "\n",
    "@app.route('/')\n",
    "def test():\n",
    "    return 'I works'\n",
    "\n",
    "@app.route('/test')\n",
    "def test2():\n",
    "    return 'test works'\n",
    "\n",
    "if __name__ == '__main__':\n",
    "    app.run(debug=True, port=8080)\n",
    "```"
   ]
  },
  {
   "cell_type": "markdown",
   "metadata": {},
   "source": [
    "## Variable Rules ##\n",
    "用 wget localhost:8080/test/hello 測試"
   ]
  },
  {
   "cell_type": "markdown",
   "metadata": {},
   "source": [
    "``` Python\n",
    "from flask import Flask, request\n",
    "app = Flask(__name__) #define app using flask\n",
    "\n",
    "@app.route('/')\n",
    "def test():\n",
    "    return 'I works'\n",
    "\n",
    "@app.route('/test')\n",
    "def test2():\n",
    "    return 'test works'\n",
    "\n",
    "@app.route('/test/<string:tag>')\n",
    "def test3(tag):\n",
    "    return '{} works'.format(tag)\n",
    "\n",
    "\n",
    "if __name__ == '__main__':\n",
    "    app.run(debug=True, port=8080)\n",
    "```"
   ]
  },
  {
   "cell_type": "markdown",
   "metadata": {},
   "source": [
    "| Type | Content |\n",
    "|--------|-----|\n",
    "| string |  accepts any text without a slash (the default) |\n",
    "| int | accepts integers |\n",
    "| float\t| like int but for floating point values |\n",
    "| path | like the default but also accepts slashes |\n",
    "| any | matches one of the items provided |\n",
    "| uuid | accepts UUID strings |\n"
   ]
  },
  {
   "cell_type": "markdown",
   "metadata": {},
   "source": [
    "## Advanced : Explaining @app.route ##\n",
    "### Decorator 裝飾器 ###\n",
    "裝飾器以 @開頭，例:\n",
    "``` Python\n",
    "@decorator_func\n",
    "def my_func(args):\n",
    "    ...\n",
    "```\n",
    "\n",
    "造成的結果就像:\n",
    "\n",
    "``` Python\n",
    "def my_func(args):\n",
    "    ...\n",
    "my_func = decorator_func(my_func)\n",
    "```"
   ]
  },
  {
   "cell_type": "code",
   "execution_count": 2,
   "metadata": {},
   "outputs": [
    {
     "name": "stdout",
     "output_type": "stream",
     "text": [
      "<b>Hello World!</b>\n"
     ]
    }
   ],
   "source": [
    "def decorate_boldstyle(func):\n",
    "    def wrapped():\n",
    "        return \"<b>\" + func() + \"</b>\"\n",
    "    return wrapped\n",
    "\n",
    "@decorate_boldstyle\n",
    "def hello_world():\n",
    "    return \"Hello World!\"\n",
    "\n",
    "print(hello_world())"
   ]
  },
  {
   "cell_type": "markdown",
   "metadata": {},
   "source": [
    "### app.route()\n",
    "link [here](https://github.com/pallets/flask/blob/master/flask/app.py#L1156)"
   ]
  },
  {
   "cell_type": "markdown",
   "metadata": {},
   "source": [
    "## 模板Templating: 動態產生網頁 ##\n"
   ]
  },
  {
   "cell_type": "markdown",
   "metadata": {},
   "source": [
    "結合 Jinja2 模板模組，Jinja2是用 Python 為基礎的 templating language (模板語言) 用來自動產生文本格式。\n",
    "``` HTML\n",
    "<title>{% block title %}{% endblock %}</title>\n",
    "<ul>\n",
    "{% for user in users %}\n",
    "  <li><a href=\"{{ user.url }}\">{{ user.username }}</a></li>\n",
    "{% endfor %}\n",
    "</ul>\n",
    "```\n",
    "- {% ... %} : control block (控制區塊)\n",
    "- {{ ... }} : variable block (變數區塊)\n",
    "\n",
    "[Jinja2 template](http://jinja.pocoo.org/docs/2.10/templates/)"
   ]
  },
  {
   "cell_type": "markdown",
   "metadata": {},
   "source": [
    "### 目錄架構 ###\n",
    "``` Python\n",
    "/myproject\n",
    "    app.py\n",
    "    ...\n",
    "    /static    (HTTP application:  css, javascript ... files)\n",
    "        style.css\n",
    "        ...\n",
    "    /templates (Jinja2 templates)\n",
    "        index.html\n",
    "        setting.html\n",
    "        ...\n",
    "```"
   ]
  },
  {
   "cell_type": "markdown",
   "metadata": {},
   "source": [
    "### Note: To Assign Path ###\n",
    "``` Python\n",
    "app = Flask(__name__,\n",
    "            static_url_path='', \n",
    "            static_folder='myproject/static',\n",
    "            template_folder='myproject/templates')\n",
    "```\n",
    "#### Full Code\n",
    "\n",
    "``` Python\n",
    "from flask import Flask\n",
    "app = Flask(__name__,\n",
    "            static_url_path='', \n",
    "            static_folder='myproject/static',\n",
    "            template_folder='myproject/templates')\n",
    "\n",
    "@app.route('/')\n",
    "def test():\n",
    "    return 'I works'\n",
    "\n",
    "@app.route('/test')\n",
    "def test2():\n",
    "    return 'test works'\n",
    "\n",
    "if __name__ == '__main__':\n",
    "    app.run(debug=True, port=8080)\n",
    "```"
   ]
  },
  {
   "cell_type": "markdown",
   "metadata": {},
   "source": [
    "### 運作 Rending Template ###\n",
    "\n",
    "#### 在 app.py 中加入 render_template() ####\n",
    "\n",
    "``` Python\n",
    "@app.route('/jinja2-test/')\n",
    "def test4():\n",
    "    return render_template(\"test.html\")  #改成呼叫 render_template() \n",
    "```\n",
    "\n",
    "#### In templates/test.html ####\n",
    "``` HTML\n",
    "<H2>test flask template</H2>\n",
    "<H2>test content</H2>\n",
    "```"
   ]
  },
  {
   "cell_type": "markdown",
   "metadata": {},
   "source": [
    "### 動態產生網頁 Rending Template ###\n",
    "#### In app.py ####\n",
    "``` Python\n",
    "from flask import Flask, render_template\n",
    "\n",
    "@app.route('/setting/<module>')\n",
    "def device_setting(module=None):\n",
    "    if module is None:\n",
    "        abort(400)\n",
    "    else:\n",
    "        return render_template('setting.html', name=module)\n",
    "```\n",
    "\n",
    "#### In templates/setting.html ####\n",
    "``` HTML\n",
    "{% if name %}\n",
    "    <H2>Setting for {{ name }} </H2>\n",
    "{% else %}\n",
    "    <H2>Setting Default</H2>\n",
    "{% endif %}\n",
    "```"
   ]
  },
  {
   "cell_type": "markdown",
   "metadata": {},
   "source": [
    "### CSS ###"
   ]
  },
  {
   "cell_type": "markdown",
   "metadata": {},
   "source": [
    "#### 加入 CSS 檔案 ###\n",
    "在 static 目錄裡加入 css 檔案\n",
    "如 [style.css](https://github.com/pallets/flask/blob/master/examples/minitwit/minitwit/static/style.css)"
   ]
  },
  {
   "cell_type": "markdown",
   "metadata": {},
   "source": [
    "#### 修改 HTML ####\n",
    "``` HTML\n",
    "<!doctype html>\n",
    "<title>{% block title %}Setting{% endblock %}</title>\n",
    "{% if name %}\n",
    "<link rel=\"stylesheet\" type=\"text/css\" href=\"{{ url_for('static', filename='style.css') }}\">\n",
    "    <H2>Setting for {{ name }} </H2>\n",
    "{% else %}\n",
    "    <H2>Setting Default</H2>\n",
    "{% endif %}\n",
    "```"
   ]
  },
  {
   "cell_type": "markdown",
   "metadata": {},
   "source": [
    "## 用JSON作通訊 ##"
   ]
  },
  {
   "cell_type": "markdown",
   "metadata": {},
   "source": [
    "``` Python\n",
    "#!flask/bin/python\n",
    "from flask import Flask, jsonify\n",
    "\n",
    "app = Flask(__name__)\n",
    "\n",
    "tasks = [\n",
    "    {\n",
    "        'id': 1,\n",
    "        'command': u'Start a RESTful service',\n",
    "        'done': False\n",
    "    },\n",
    "    {\n",
    "        'id': 2,\n",
    "        'command': u'Stop RESTful service',\n",
    "        'done': False\n",
    "    }\n",
    "]\n",
    "\n",
    "@app.route('/myservice/api/v1.0/tasks', methods=['GET'])\n",
    "def get_tasks():\n",
    "    return jsonify({'tasks': tasks})\n",
    "\n",
    "if __name__ == '__main__':\n",
    "    app.run(debug=True, port=8080)\n",
    "```"
   ]
  },
  {
   "cell_type": "markdown",
   "metadata": {},
   "source": [
    "## 動態Query的結合 ##"
   ]
  },
  {
   "cell_type": "markdown",
   "metadata": {},
   "source": [
    "``` Python\n",
    "#!flask/bin/python\n",
    "from flask import Flask, jsonify, abort\n",
    "\n",
    "app = Flask(__name__)\n",
    "\n",
    "tasks = [\n",
    "    {\n",
    "        'id': 1,\n",
    "        'command': u'Start a RESTful service',\n",
    "        'done': False\n",
    "    },\n",
    "    {\n",
    "        'id': 2,\n",
    "        'command': u'Stop RESTful service',\n",
    "        'done': False\n",
    "    }\n",
    "]\n",
    "\n",
    "@app.route('/myservice/api/v1.0/tasks/<int:taskid>', methods=['GET'])\n",
    "def select_task(taskid):\n",
    "    task = list(filter(lambda t: t['id'] == taskid, tasks)) #list for Python3.x\n",
    "    if len(task) == 0:\n",
    "        abort(404)\n",
    "    return jsonify({'task': task[0]})\n",
    "\n",
    "if __name__ == '__main__':\n",
    "    app.run(debug=True, port=8080)\n",
    "\n",
    "```\n",
    "\n",
    "| keyword | Description |\n",
    "|-----|-----|\n",
    "| lamda() | anonymous function for temporary use |\n",
    "| filter() | function of functional programming to filter |\n",
    "| [abort](http://flask.pocoo.org/docs/0.12/patterns/errorpages/)() | to abort service |"
   ]
  },
  {
   "cell_type": "markdown",
   "metadata": {},
   "source": [
    "``` bash\n",
    "$curl -i localhost:8080/myservice/api/v1.0/tasks/2\n",
    "HTTP/1.0 200 OK\n",
    "Content-Type: application/json\n",
    "Content-Length: 92\n",
    "Server: Werkzeug/0.12.2 Python/3.5.2\n",
    "Date: Thu, 31 Aug 2017 02:00:00 GMT\n",
    "\n",
    "{\n",
    "  \"task\": {\n",
    "    \"command\": \"Stop RESTful service\",\n",
    "    \"done\": false,\n",
    "    \"id\": 2\n",
    "  }\n",
    "}\n",
    "\n",
    "$ curl -i localhost:8080/myservice/api/v1.0/tasks/3\n",
    "HTTP/1.0 404 NOT FOUND\n",
    "Content-Type: text/html\n",
    "Content-Length: 233\n",
    "Server: Werkzeug/0.12.2 Python/3.5.2\n",
    "Date: Thu, 31 Aug 2017 01:58:50 GMT\n",
    "\n",
    "<!DOCTYPE HTML PUBLIC \"-//W3C//DTD HTML 3.2 Final//EN\">\n",
    "<title>404 Not Found</title>\n",
    "<h1>Not Found</h1>\n",
    "<p>The requested URL was not found on the server.  If you entered the URL manually please check your spelling and try again.</p>\n",
    "\n",
    "```"
   ]
  },
  {
   "cell_type": "markdown",
   "metadata": {},
   "source": [
    "## Gracefully Abort 優雅轉身 ##\n",
    "Return 404 error in HTML instead of JSON?"
   ]
  },
  {
   "cell_type": "markdown",
   "metadata": {},
   "source": [
    "``` Python\n",
    "from flask import make_response\n",
    "\n",
    "@app.errorhandler(404)\n",
    "def not_found(error):\n",
    "    return make_response(jsonify({'error': 'Not found'}), 404)\n",
    "```"
   ]
  },
  {
   "cell_type": "markdown",
   "metadata": {},
   "source": [
    "``` bash\n",
    "$ curl -i localhost:8080/myservice/api/v1.0/tasks/3\n",
    "HTTP/1.0 404 NOT FOUND\n",
    "Content-Type: application/json\n",
    "Content-Length: 27\n",
    "Server: Werkzeug/0.12.2 Python/3.5.2\n",
    "Date: Thu, 31 Aug 2017 02:22:14 GMT\n",
    "\n",
    "{\n",
    "  \"error\": \"Not found\"\n",
    "}\n",
    "```"
   ]
  },
  {
   "cell_type": "markdown",
   "metadata": {},
   "source": [
    "### Obsolete: Don't know why it can't find path ###\n",
    "```Python\n",
    "from flask import render_template\n",
    "\n",
    "@app.errorhandler(404)\n",
    "def page_not_found(e):\n",
    "    return render_template('404.html'), 404\n",
    "```"
   ]
  },
  {
   "cell_type": "markdown",
   "metadata": {},
   "source": [
    "## Post Method ##\n",
    "### 新增之例 ###"
   ]
  },
  {
   "cell_type": "markdown",
   "metadata": {},
   "source": [
    "``` Python\n",
    "from flask import request\n",
    "\n",
    "@app.route('/myservice/api/v1.0/tasks', methods=['POST'])\n",
    "def add_task():\n",
    "    if not request.json or not 'addTask' in request.json:\n",
    "        abort(400)\n",
    "    task = {\n",
    "        'id': tasks[-1]['id'] + 1,\n",
    "        'command': request.json['addTask'],\n",
    "        'done': False\n",
    "    }\n",
    "    tasks.append(task)\n",
    "    return jsonify({'task': task}), 201\n",
    "```\n",
    "\n",
    "\n",
    "``` bash\n",
    "$ curl -i -H \"Content-Type: application/json\" -X POST -d '{\"addTask\":\"try to add entry\"}' http://localhost:8080/myservice/api/v1.0/tasks\n",
    "HTTP/1.0 201 CREATED\n",
    "Content-Type: application/json\n",
    "Content-Length: 112\n",
    "Server: Werkzeug/0.12.2 Python/3.5.2\n",
    "Date: Thu, 31 Aug 2017 03:06:35 GMT\n",
    "\n",
    "{\n",
    "  \"task\": {\n",
    "    \"command\": \"try to add entry\",\n",
    "    \"done\": false,\n",
    "    \"id\": 3\n",
    "  }\n",
    "}\n",
    "```"
   ]
  },
  {
   "cell_type": "markdown",
   "metadata": {},
   "source": [
    "#### Prove it! 真的存下來了嗎? ####\n",
    "\n",
    "``` bash\n",
    "$ curl -i localhost:8080/myservice/api/v1.0/tasks/3\n",
    "HTTP/1.0 200 OK\n",
    "Content-Type: application/json\n",
    "Content-Length: 112\n",
    "Server: Werkzeug/0.12.2 Python/3.5.2\n",
    "Date: Thu, 31 Aug 2017 03:08:59 GMT\n",
    "\n",
    "{\n",
    "  \"task\": {\n",
    "    \"command\": \"try to add entry\",\n",
    "    \"done\": false,\n",
    "    \"id\": 3\n",
    "  }\n",
    "}\n",
    "````"
   ]
  },
  {
   "cell_type": "markdown",
   "metadata": {},
   "source": [
    "## PUT Method ##\n",
    "### 更新之例 ###"
   ]
  },
  {
   "cell_type": "markdown",
   "metadata": {},
   "source": [
    "``` Python\n",
    "@app.route('/myservice/api/v1.0/tasks/<int:taskid>', methods=['PUT'])\n",
    "def update_task(taskid):\n",
    "    task = list(filter(lambda t: t['id'] == taskid, tasks))\n",
    "    if len(task) == 0:\n",
    "        abort(404)\n",
    "    if not request.json:\n",
    "        abort(400)\n",
    "    if 'command' in request.json and type(request.json['command']) != str:\n",
    "        abort(400)\n",
    "    if 'done' in request.json and type(request.json['done']) is not bool:\n",
    "        abort(400)\n",
    "    task[0]['command'] = request.json.get('command', task[0]['command'])\n",
    "    task[0]['done'] = request.json.get('done', task[0]['done'])\n",
    "    return jsonify({'task': task[0]})\n",
    "```"
   ]
  },
  {
   "cell_type": "markdown",
   "metadata": {},
   "source": [
    "### To execute ###\n",
    "``` bash\n",
    "$ curl -i -H \"Content-Type: application/json\" -X PUT -d '{\"command\":\"up-to-date entry\", \"description\":\"this should be updated\", \"done\": false}' http://localhost:8080/myservice/api/v1.0/tasks/2\n",
    "HTTP/1.0 200 OK\n",
    "Content-Type: application/json\n",
    "Content-Length: 88\n",
    "Server: Werkzeug/0.12.2 Python/3.5.2\n",
    "Date: Thu, 31 Aug 2017 03:44:36 GMT\n",
    "\n",
    "{\n",
    "  \"task\": {\n",
    "    \"command\": \"up-to-date entry\",\n",
    "    \"done\": false,\n",
    "    \"id\": 2\n",
    "  }\n",
    "}\n",
    "\n",
    "$ curl -i localhost:8080/myservice/api/v1.0/tasks/2\n",
    "HTTP/1.0 200 OK\n",
    "Content-Type: application/json\n",
    "Content-Length: 88\n",
    "Server: Werkzeug/0.12.2 Python/3.5.2\n",
    "Date: Thu, 31 Aug 2017 03:44:43 GMT\n",
    "\n",
    "{\n",
    "  \"task\": {\n",
    "    \"command\": \"up-to-date entry\",\n",
    "    \"done\": false,\n",
    "    \"id\": 2\n",
    "  }\n",
    "}\n",
    "```"
   ]
  },
  {
   "cell_type": "markdown",
   "metadata": {},
   "source": [
    "## DELETE Method ##\n",
    "### 刪除之例 ###"
   ]
  },
  {
   "cell_type": "markdown",
   "metadata": {},
   "source": [
    "``` Python\n",
    "@app.route('/myservice/api/v1.0/tasks/<int:taskid>', methods=['DELETE'])\n",
    "def delete_task(taskid):\n",
    "    task = list(filter(lambda t: t['id'] == taskid, tasks))\n",
    "    if len(task) == 0:\n",
    "        abort(404)\n",
    "    tasks.remove(task[0])\n",
    "    return jsonify({'result': True})\n",
    "```"
   ]
  },
  {
   "cell_type": "markdown",
   "metadata": {},
   "source": [
    "### To execute ###\n",
    "``` bash\n",
    "$ curl -i -X DELETE http://localhost:8080/myservice/api/v1.0/tasks/2\n",
    "curl: (7) Failed to connect to localhost port 8080: Connection refused\n",
    "ubuntu@ip-172-31-18-224:~/flask$ curl -i -X DELETE http://localhost:8080/myservice/api/v1.0/tasks/2\n",
    "HTTP/1.0 200 OK\n",
    "Content-Type: application/json\n",
    "Content-Length: 21\n",
    "Server: Werkzeug/0.12.2 Python/3.5.2\n",
    "Date: Thu, 31 Aug 2017 03:57:20 GMT\n",
    "\n",
    "{\n",
    "  \"result\": true\n",
    "}\n",
    "\n",
    "$ curl -i localhost:8080/myservice/api/v1.0/tasks/2\n",
    "HTTP/1.0 404 NOT FOUND\n",
    "Content-Type: application/json\n",
    "Content-Length: 27\n",
    "Server: Werkzeug/0.12.2 Python/3.5.2\n",
    "Date: Thu, 31 Aug 2017 03:57:26 GMT\n",
    "\n",
    "{\n",
    "  \"error\": \"Not found\"\n",
    "}\n",
    "```"
   ]
  },
  {
   "cell_type": "markdown",
   "metadata": {},
   "source": [
    "## 載入多重method ##"
   ]
  },
  {
   "cell_type": "markdown",
   "metadata": {},
   "source": [
    "### 安裝 flask-restful package ##"
   ]
  },
  {
   "cell_type": "code",
   "execution_count": null,
   "metadata": {
    "collapsed": true
   },
   "outputs": [],
   "source": [
    "! pip install flask-restful"
   ]
  },
  {
   "cell_type": "markdown",
   "metadata": {},
   "source": [
    "### 用API 接值 ##"
   ]
  },
  {
   "cell_type": "markdown",
   "metadata": {},
   "source": [
    "``` Python\n",
    "from flask import Flask\n",
    "from flask_restful import Api, Resource\n",
    "\n",
    "app = Flask(__name__)\n",
    "api = Api(app)\n",
    "\n",
    "class UserAPI(Resource):\n",
    "    def get(self, id):\n",
    "        return \"This is GET\"\n",
    "\n",
    "    def put(self, id):\n",
    "        return \"This is PUT\"\n",
    "\n",
    "    def delete(self, id):\n",
    "        return \"This is DELETE\"\n",
    "\n",
    "api.add_resource(UserAPI, '/users/<int:id>', endpoint = 'user')\n",
    "\n",
    "if __name__ == '__main__':\n",
    "    app.run(debug=True, port=8080)\n",
    "```\n",
    "\n",
    "#### verify it ####\n",
    "``` bash\n",
    "$ curl -i -X PUT localhost:8080/users/1\n",
    "HTTP/1.0 200 OK\n",
    "Content-Type: application/json\n",
    "Content-Length: 14\n",
    "Server: Werkzeug/0.12.2 Python/3.5.2\n",
    "Date: Thu, 31 Aug 2017 07:55:10 GMT\n",
    "\n",
    "\"This is PUT\"\n",
    "```"
   ]
  },
  {
   "cell_type": "code",
   "execution_count": null,
   "metadata": {
    "collapsed": true
   },
   "outputs": [],
   "source": [
    "from flask import Flask, jsonify\n",
    "from flask_restful import Api, Resource\n",
    "\n",
    "app = Flask(__name__)\n",
    "api = Api(app)\n",
    "\n",
    "tasks = [\n",
    "    {\n",
    "        'id': 1,\n",
    "        'command': u'Start a RESTful service',\n",
    "        'done': False\n",
    "    },\n",
    "    {\n",
    "        'id': 2,\n",
    "        'command': u'Stop RESTful service',\n",
    "        'done': False\n",
    "    }\n",
    "]\n",
    "\n",
    "class UserAPI(Resource):\n",
    "    def get(self, taskid):\n",
    "        print(\"GET method\")\n",
    "        task = list(filter(lambda t: t['id'] == taskid, tasks)) #list for Python3.x\n",
    "        if len(task) == 0:\n",
    "            abort(404)\n",
    "        return jsonify({'task': task[0]})\n",
    "\n",
    "    def post(self, taskid):\n",
    "        print(\"POST method\")\n",
    "        if not request.json or not 'addTask' in request.json:\n",
    "            abort(400)\n",
    "        task = {\n",
    "            'id': tasks[-1]['id'] + 1,\n",
    "            'command': request.json['addTask'],\n",
    "            'done': False\n",
    "        }\n",
    "        tasks.append(task)\n",
    "        return jsonify({'task': task}), 201\n",
    "\n",
    "    def put(self, taskid):\n",
    "        print(\"PUT method\")\n",
    "        task = list(filter(lambda t: t['id'] == taskid, tasks))\n",
    "        if len(task) == 0:\n",
    "            abort(404)\n",
    "        if not request.json:\n",
    "            abort(400)\n",
    "        if 'command' in request.json and type(request.json['command']) != str:\n",
    "            abort(400)\n",
    "        if 'done' in request.json and type(request.json['done']) is not bool:\n",
    "            abort(400)\n",
    "        task[0]['command'] = request.json.get('command', task[0]['command'])\n",
    "        task[0]['done'] = request.json.get('done', task[0]['done'])\n",
    "        return jsonify({'task': task[0]})\n",
    "\n",
    "    def delete(self, taskid):\n",
    "        print(\"DELETE method\")\n",
    "        task = list(filter(lambda t: t['id'] == taskid, tasks))\n",
    "        if len(task) == 0:\n",
    "            abort(404)\n",
    "        tasks.remove(task[0])\n",
    "        return jsonify({'result': True})\n",
    "\n",
    "api.add_resource(UserAPI, '/users/<int:taskid>', endpoint = 'user')\n",
    "\n",
    "if __name__ == '__main__':\n",
    "    app.run(debug=True, port=8080)"
   ]
  },
  {
   "cell_type": "markdown",
   "metadata": {},
   "source": [
    "#### Execute it! ####\n",
    "``` bash\n",
    "$ curl -i  localhost:8080/myservice/api/v1.0/tasks/1\n",
    "HTTP/1.0 200 OK\n",
    "Content-Type: application/json\n",
    "Content-Length: 95\n",
    "Server: Werkzeug/0.12.2 Python/3.5.2\n",
    "Date: Thu, 31 Aug 2017 09:16:20 GMT\n",
    "\n",
    "{\n",
    "  \"task\": {\n",
    "    \"command\": \"Start a RESTful service\",\n",
    "    \"done\": false,\n",
    "    \"id\": 1\n",
    "  }\n",
    "}\n",
    "\n",
    "$ curl -i  localhost:8080/myservice/api/v1.0/tasks/2\n",
    "HTTP/1.0 200 OK\n",
    "Content-Type: application/json\n",
    "Content-Length: 92\n",
    "Server: Werkzeug/0.12.2 Python/3.5.2\n",
    "Date: Thu, 31 Aug 2017 09:15:58 GMT\n",
    "\n",
    "{\n",
    "  \"task\": {\n",
    "    \"command\": \"Stop RESTful service\",\n",
    "    \"done\": false,\n",
    "    \"id\": 2\n",
    "  }\n",
    "}\n",
    "\n",
    "$ curl -i -H \"Content-Type: application/json\" -X PUT -d '{\"command\":\"up-to-date entry\", \"description\":\"this should be updated\", \"done\": false}' http://localhost:8080/myservice/api/v1.0/tasks/2\n",
    "HTTP/1.0 200 OK\n",
    "Content-Type: application/json\n",
    "Content-Length: 88\n",
    "Server: Werkzeug/0.12.2 Python/3.5.2\n",
    "Date: Thu, 31 Aug 2017 09:18:31 GMT\n",
    "\n",
    "{\n",
    "  \"task\": {\n",
    "    \"command\": \"up-to-date entry\",\n",
    "    \"done\": false,\n",
    "    \"id\": 2\n",
    "  }\n",
    "}\n",
    "```"
   ]
  },
  {
   "cell_type": "markdown",
   "metadata": {},
   "source": [
    "## References ##\n",
    "### [Flask API列表](http://flask.pocoo.org/docs/0.12/api/)\n",
    "### [使用 Python 和 Flask 设计 RESTful API](http://www.pythondoc.com/flask-restful/first.html) ###\n",
    "### [Flask Quickstart](http://flask.pocoo.org/docs/0.12/quickstart/#static-files) ###"
   ]
  }
 ],
 "metadata": {
  "kernelspec": {
   "display_name": "Python 3",
   "language": "python",
   "name": "python3"
  },
  "language_info": {
   "codemirror_mode": {
    "name": "ipython",
    "version": 3
   },
   "file_extension": ".py",
   "mimetype": "text/x-python",
   "name": "python",
   "nbconvert_exporter": "python",
   "pygments_lexer": "ipython3",
   "version": "3.6.2"
  }
 },
 "nbformat": 4,
 "nbformat_minor": 2
}
