{
 "cells": [
  {
   "cell_type": "markdown",
   "metadata": {},
   "source": [
    "# Python Cloud Backup by Paul Chao #"
   ]
  },
  {
   "cell_type": "markdown",
   "metadata": {},
   "source": [
    "### 提醒，避免收費以及耗費頻寬 :\n",
    "- 可以加入過濾器 (只傳特殊副檔名)\n",
    "- 上傳檔案時，注意上傳目錄裡面的檔案數與大小，建議作個測試目錄來玩玩即可\n",
    "- 下載還原時，可以用 input() 指定寫入目錄，避免現行工作目錄被弄亂"
   ]
  },
  {
   "cell_type": "markdown",
   "metadata": {},
   "source": [
    "## upload.py ##\n",
    "把指定目錄中所有的檔案全部放入乾淨的 container"
   ]
  },
  {
   "cell_type": "code",
   "execution_count": 5,
   "metadata": {},
   "outputs": [
    {
     "name": "stdout",
     "output_type": "stream",
     "text": [
      "upload path :images\n",
      "Uploading ...\n",
      "images\\bind-n-connect.jpg\n",
      "images\\git_action.jpg\n",
      "images\\key-value.jpg\n",
      "images\\pubsub.jpg\n",
      "images\\pushpull.jpg\n",
      "images\\reqrep.jpg\n",
      "images\\sql-vs-nosql.jpg\n"
     ]
    }
   ],
   "source": [
    "import os\n",
    "from azure.storage.blob import BlockBlobService\n",
    "\n",
    "# directory tools\n",
    "typelist = ('.jpg')\n",
    "\n",
    "def traverse_dir(entry_dir, service):\n",
    "    for root, dirs, files in os.walk(entry_dir):\n",
    "        for file in files:\n",
    "            fname, fextension = os.path.splitext(file)\n",
    "            if fextension in typelist:\n",
    "                p=os.path.join(root,file)\n",
    "                print(p)\n",
    "                save_file_to_blob(service, p, p)\n",
    "\n",
    "# Cloud\n",
    "storage_account= ??your_storage_account??\n",
    "storage_key= ??your_storage_key??\n",
    "container_name= \"backup\"\n",
    "\n",
    "def create_service():\n",
    "    return BlockBlobService(account_name=storage_account, account_key=storage_key)\n",
    "\n",
    "def save_file_to_blob(service, filepath, blobname):\n",
    "    service.create_blob_from_path(container_name, blobname, filepath)\n",
    "\n",
    "def list_file_from_blob(service, containername):\n",
    "    list = service.list_blobs(containername)\n",
    "    for blob in list:\n",
    "        print(blob.name)\n",
    "\n",
    "def read_file_from_blob(service, blobname, savedname):\n",
    "    service.get_blob_to_path(container_name, blobname, savedname)\n",
    "\n",
    "# main procedure\n",
    "upload_path = input(\"upload path :\")\n",
    "srv = create_service()\n",
    "srv.create_container(container_name)\n",
    "\n",
    "print(\"Uploading ...\")\n",
    "traverse_dir(upload_path, srv)          "
   ]
  },
  {
   "cell_type": "markdown",
   "metadata": {},
   "source": [
    "## download.py ##"
   ]
  },
  {
   "cell_type": "code",
   "execution_count": 30,
   "metadata": {},
   "outputs": [
    {
     "name": "stdout",
     "output_type": "stream",
     "text": [
      "restore container name :backup\n",
      "save to path :bktest\n",
      "Restoring ...\n",
      "images/bind-n-connect.jpg\n",
      "blob_dir =  images\n",
      "doing read for images/bind-n-connect.jpg,bktest/images/bind-n-connect.jpg\n",
      "images/git_action.jpg\n",
      "blob_dir =  images\n",
      "doing read for images/git_action.jpg,bktest/images/git_action.jpg\n",
      "images/key-value.jpg\n",
      "blob_dir =  images\n",
      "doing read for images/key-value.jpg,bktest/images/key-value.jpg\n",
      "images/pubsub.jpg\n",
      "blob_dir =  images\n",
      "doing read for images/pubsub.jpg,bktest/images/pubsub.jpg\n",
      "images/pushpull.jpg\n",
      "blob_dir =  images\n",
      "doing read for images/pushpull.jpg,bktest/images/pushpull.jpg\n",
      "images/reqrep.jpg\n",
      "blob_dir =  images\n",
      "doing read for images/reqrep.jpg,bktest/images/reqrep.jpg\n",
      "images/sql-vs-nosql.jpg\n",
      "blob_dir =  images\n",
      "doing read for images/sql-vs-nosql.jpg,bktest/images/sql-vs-nosql.jpg\n"
     ]
    }
   ],
   "source": [
    "import os\n",
    "from azure.storage.blob import BlockBlobService\n",
    "\n",
    "# directory tools\n",
    "typelist = ('.jpg')\n",
    "\n",
    "def traverse_dir(entry_dir, service):\n",
    "    for root, dirs, files in os.walk(entry_dir):\n",
    "        for file in files:\n",
    "            fname, fextension = os.path.splitext(file)\n",
    "            if fextension in typelist:\n",
    "                p=os.path.join(root,file)\n",
    "                print(p)\n",
    "                save_file_to_blob(service, p, p)\n",
    "\n",
    "# Cloud\n",
    "storage_account= ??your_storage_account??\n",
    "storage_key= ??your_storage_key??\n",
    "\n",
    "def create_service():\n",
    "    return BlockBlobService(account_name=storage_account, account_key=storage_key)\n",
    "\n",
    "def save_file_to_blob(service, filepath, blobname):\n",
    "    service.create_blob_from_path(container_name, blobname, filepath)\n",
    "\n",
    "def read_file_from_blob(service, blobname, savedname):\n",
    "    print(\"doing read for {},{}\".format(blobname, savedname))\n",
    "    service.get_blob_to_path(container_name, blobname, savedname)\n",
    "\n",
    "### new function ###\n",
    "def restore_file_from_blob(service, containername, root_path):\n",
    "    list = service.list_blobs(containername)\n",
    "    for blob in list:\n",
    "        print(blob.name)\n",
    "        if \"/\" in blob.name:\n",
    "        # it is a sub-directory structure\n",
    "            blob_dir, blob_tail = os.path.split(blob.name)\n",
    "            print(\"blob_dir = \", blob_dir)\n",
    "            #print(blob_tail)\n",
    "            if os.path.exists(root_path + blob_dir):\n",
    "            # sub-directory exists\n",
    "                read_file_from_blob(service, blob.name, root_path+ '/' + blob.name)\n",
    "            else:\n",
    "                os.makedirs(root_path+\"/\"+blob_dir,  exist_ok=True)\n",
    "                read_file_from_blob(service, blob.name, root_path+ '/' + blob.name)\n",
    "        else:\n",
    "        # it is not a sub-directory structure\n",
    "            read_file_from_blob(service, blob.name, root_path+ '/' + blob.name)\n",
    "        \n",
    "# main procedure\n",
    "container_name = input(\"restore container name :\")\n",
    "download_path = input(\"save to path :\")\n",
    "srv = create_service()\n",
    "#srv.create_container(container_name)\n",
    "\n",
    "print(\"Restoring ...\")\n",
    "if os.path.exists(download_path) is False:\n",
    "    os.mkdir(download_path)\n",
    "restore_file_from_blob(srv, container_name, download_path)"
   ]
  }
 ],
 "metadata": {
  "kernelspec": {
   "display_name": "Python 3",
   "language": "python",
   "name": "python3"
  },
  "language_info": {
   "codemirror_mode": {
    "name": "ipython",
    "version": 3
   },
   "file_extension": ".py",
   "mimetype": "text/x-python",
   "name": "python",
   "nbconvert_exporter": "python",
   "pygments_lexer": "ipython3",
   "version": "3.6.2"
  }
 },
 "nbformat": 4,
 "nbformat_minor": 2
}
