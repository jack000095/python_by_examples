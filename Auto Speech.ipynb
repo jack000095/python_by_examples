{
 "cells": [
  {
   "cell_type": "markdown",
   "metadata": {},
   "source": [
    "# Python Examples : Auto Speech by Paul Chao #"
   ]
  },
  {
   "cell_type": "code",
   "execution_count": 2,
   "metadata": {},
   "outputs": [
    {
     "name": "stdout",
     "output_type": "stream",
     "text": [
      "Requirement already satisfied: gTTS in c:\\users\\user\\anaconda3\\lib\\site-packages\n",
      "Requirement already satisfied: requests in c:\\users\\user\\anaconda3\\lib\\site-packages (from gTTS)\n",
      "Requirement already satisfied: six in c:\\users\\user\\anaconda3\\lib\\site-packages (from gTTS)\n",
      "Requirement already satisfied: gtts-token in c:\\users\\user\\anaconda3\\lib\\site-packages (from gTTS)\n"
     ]
    }
   ],
   "source": [
    "!pip install gTTS"
   ]
  },
  {
   "cell_type": "code",
   "execution_count": 2,
   "metadata": {},
   "outputs": [],
   "source": [
    "from gtts import gTTS\n",
    "tts=gTTS(text='廣宣狂新聞', lang='zh')\n",
    "tts.save(\"broadmission_madnews.mp3\")"
   ]
  },
  {
   "cell_type": "code",
   "execution_count": 3,
   "metadata": {},
   "outputs": [
    {
     "data": {
      "text/plain": [
       "True"
      ]
     },
     "execution_count": 3,
     "metadata": {},
     "output_type": "execute_result"
    }
   ],
   "source": [
    "import webbrowser\n",
    "webbrowser.open(\"broadmission_madnews.mp3\")"
   ]
  },
  {
   "cell_type": "code",
   "execution_count": 5,
   "metadata": {},
   "outputs": [
    {
     "name": "stdout",
     "output_type": "stream",
     "text": [
      " 傅達仁上書蔡英文告別信 兒挺父安樂死 醫界不滿社福把持長照？專家：整合才是王道 獨家／長照2.0總檢討 ABC重新定位 在百貨公司四處縱火 21歲男子判刑3年6月 MOF甜點師來台客座 競賽巧思融入飯店午茶 書廊免費閱讀 晚間還能聽歌看戲 跳海戲沒安全措施 孟耿如譙劇組玩命 港建制泛民過招 掀議會修例戰 中共19大 港媒：陸官員指薄熙來等人陰謀奪權\n"
     ]
    }
   ],
   "source": [
    "import webbrowser\n",
    "import requests\n",
    "from bs4 import BeautifulSoup\n",
    "from gtts import gTTS\n",
    "\n",
    "def get_hotline_udnnews(url):\n",
    "    resp = requests.get(url)\n",
    "    \n",
    "    if resp.status_code is 200:\n",
    "        resp.encoding = 'utf-8'\n",
    "        soup = BeautifulSoup(resp.text, 'html.parser')\n",
    "        scope1 = soup.select(\"#tab1\") #選取第一區段\n",
    "        scope2 = scope1[0].select(\".taba\")\n",
    "        \n",
    "        hot_lines = []\n",
    "        \n",
    "        for line in scope2:\n",
    "            hot_lines.append(line.text)\n",
    "            \n",
    "        return hot_lines\n",
    "\n",
    "def translate_text_to_speech(text):\n",
    "    if text is not None:\n",
    "        tts=gTTS(text, lang='zh')\n",
    "        print(text)\n",
    "        tts.save(\"news.mp3\")\n",
    "\n",
    "if __name__ == '__main__':\n",
    "    udnnews_lines = get_hotline_udnnews(\"https://udn.com/news/index\")\n",
    "    i = 0\n",
    "    udnnews_dicts = {}\n",
    "    while i < len(udnnews_lines):\n",
    "        udnnews_dicts['time'] = udnnews_lines[i][:5]\n",
    "        udnnews_dicts['title'] = udnnews_lines[i][5:]\n",
    "        #print(\"Time[{}]: {}\".format(udnnews_dicts['time'], udnnews_dicts['title']))\n",
    "        i += 1\n",
    "    \n",
    "    all_lines = \"\"\n",
    "    for line in udnnews_lines:\n",
    "        all_lines += \" \"+str(line[5:])\n",
    "    #print(all_lines)\n",
    "    \n",
    "    translate_text_to_speech(str(all_lines))\n",
    "    webbrowser.open(\"news.mp3\")"
   ]
  },
  {
   "cell_type": "code",
   "execution_count": null,
   "metadata": {
    "collapsed": true
   },
   "outputs": [],
   "source": []
  }
 ],
 "metadata": {
  "kernelspec": {
   "display_name": "Python 3",
   "language": "python",
   "name": "python3"
  },
  "language_info": {
   "codemirror_mode": {
    "name": "ipython",
    "version": 3
   },
   "file_extension": ".py",
   "mimetype": "text/x-python",
   "name": "python",
   "nbconvert_exporter": "python",
   "pygments_lexer": "ipython3",
   "version": "3.6.2"
  }
 },
 "nbformat": 4,
 "nbformat_minor": 2
}
